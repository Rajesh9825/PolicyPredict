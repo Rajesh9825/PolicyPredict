{
 "cells": [
  {
   "cell_type": "code",
   "execution_count": 1,
   "id": "fa2e7a6c",
   "metadata": {},
   "outputs": [],
   "source": [
    "import os"
   ]
  },
  {
   "cell_type": "code",
   "execution_count": 2,
   "id": "35b32f23",
   "metadata": {},
   "outputs": [
    {
     "data": {
      "text/plain": [
       "'d:\\\\ML_Projects\\\\Resume Project\\\\Project_6_insurance_claim_prediction\\\\reasearch'"
      ]
     },
     "execution_count": 2,
     "metadata": {},
     "output_type": "execute_result"
    }
   ],
   "source": [
    "%pwd"
   ]
  },
  {
   "cell_type": "code",
   "execution_count": 3,
   "id": "d36f92ed",
   "metadata": {},
   "outputs": [],
   "source": [
    "os.chdir(\"../\")"
   ]
  },
  {
   "cell_type": "code",
   "execution_count": 4,
   "id": "e82d60a3",
   "metadata": {},
   "outputs": [
    {
     "data": {
      "text/plain": [
       "'d:\\\\ML_Projects\\\\Resume Project\\\\Project_6_insurance_claim_prediction'"
      ]
     },
     "execution_count": 4,
     "metadata": {},
     "output_type": "execute_result"
    }
   ],
   "source": [
    "%pwd"
   ]
  },
  {
   "cell_type": "code",
   "execution_count": 30,
   "id": "4f8e0711",
   "metadata": {},
   "outputs": [],
   "source": [
    "## Configuration entity\n",
    "from dataclasses import dataclass\n",
    "from pathlib import Path\n",
    "\n",
    "@dataclass(frozen=True)\n",
    "class DataIngestionConfig:\n",
    "    root_dir: Path\n",
    "    source_URL: str\n",
    "    local_file_path: Path\n",
    "    unzip_dir: Path\n",
    "    "
   ]
  },
  {
   "cell_type": "code",
   "execution_count": 21,
   "id": "beb2190d",
   "metadata": {},
   "outputs": [],
   "source": [
    "## Configuration Manager \n",
    "\n",
    "from src.mlproject.constants import *\n",
    "from src.mlproject.utils.common import read_yaml,create_directories"
   ]
  },
  {
   "cell_type": "code",
   "execution_count": 33,
   "id": "2a480a70",
   "metadata": {},
   "outputs": [],
   "source": [
    "class ConfigurationManager:\n",
    "    def __init__(self,\n",
    "                 config_filepath = CONFIG_FILE_PATH,\n",
    "                 params_filepath = PARAMS_FILE_PATH,\n",
    "                 schema_filepath = SCHEMA_FILE_PATH):\n",
    "        \n",
    "        self.config = read_yaml(config_filepath)\n",
    "        self.params = read_yaml(params_filepath)\n",
    "        self.schema = read_yaml(schema_filepath)\n",
    "\n",
    "        create_directories([self.config.artifacts_root])\n",
    "\n",
    "\n",
    "\n",
    "    def get_data_ingestion_config(self) -> DataIngestionConfig:\n",
    "        config = self.config.data_ingestion\n",
    "\n",
    "        create_directories([config.root_dir])\n",
    "\n",
    "        data_ingestion_config = DataIngestionConfig(\n",
    "            root_dir=config.root_dir,\n",
    "            source_URL=config.source_url,\n",
    "            local_file_path=config.local_file_path,\n",
    "            unzip_dir=config.unzip_dir\n",
    "        )\n",
    "\n",
    "        return data_ingestion_config\n",
    "        "
   ]
  },
  {
   "cell_type": "code",
   "execution_count": 34,
   "id": "aae3543e",
   "metadata": {},
   "outputs": [],
   "source": [
    "## Data Ingestion\n",
    "import os\n",
    "from src.mlproject.logging import logger\n",
    "from src.mlproject.utils.common import get_size\n",
    "from dotenv import load_dotenv\n",
    "from kaggle.api.kaggle_api_extended import KaggleApi"
   ]
  },
  {
   "cell_type": "code",
   "execution_count": 35,
   "id": "a728b784",
   "metadata": {},
   "outputs": [],
   "source": [
    "class DataIngestion: \n",
    "    def __init__(self,config: DataIngestionConfig):\n",
    "        self.config = config\n",
    "\n",
    "    def download_file(self):\n",
    "        if not os.path.exists(self.config.local_file_path):\n",
    "            # Load environment variables from .env file\n",
    "            load_dotenv()\n",
    "\n",
    "            # Authenticate with Kaggle\n",
    "            api = KaggleApi()\n",
    "            api.authenticate()\n",
    "\n",
    "            # Download dataset\n",
    "            api.dataset_download_files(self.config.source_URL, path=self.config.unzip_dir, unzip=True)\n",
    "            logger.info(f\"{self.config.source_URL} dataset downloaded! On following path: \\n{self.config.unzip_dir}\")\n",
    "\n",
    "        else:\n",
    "            logger.info(f\"file already exists of size: {get_size(Path(self.config.local_file_path))}\")\n",
    "        \n"
   ]
  },
  {
   "cell_type": "code",
   "execution_count": null,
   "id": "a0a8939a",
   "metadata": {},
   "outputs": [
    {
     "name": "stdout",
     "output_type": "stream",
     "text": [
      "[2025-04-09 18:06:04,882: INFO: common: yaml file: config\\config.yaml loaded successfully]\n",
      "[2025-04-09 18:06:04,886: INFO: common: yaml file: params.yaml loaded successfully]\n",
      "[2025-04-09 18:06:04,889: INFO: common: yaml file: schema.yaml loaded successfully]\n",
      "[2025-04-09 18:06:04,890: INFO: common: Created directory at: artifacts]\n",
      "[2025-04-09 18:06:04,893: INFO: common: Created directory at: artifacts/data_ingestion]\n",
      "Dataset URL: https://www.kaggle.com/datasets/harishkumardatalab/medical-insurance-price-prediction\n",
      "[2025-04-09 18:06:06,202: INFO: 645148481: harishkumardatalab/medical-insurance-price-prediction dataset downloaded! On following path: \n",
      "artifacts/data_ingestion]\n"
     ]
    }
   ],
   "source": [
    "## Data Ingestion Pipeline\n",
    "try: \n",
    "    config = ConfigurationManager()\n",
    "    data_ingestion_config = config.get_data_ingestion_config()\n",
    "    data_ingetsion = DataIngestion(config=data_ingestion_config)\n",
    "    data_ingetsion.download_file()\n",
    "except Exception as e:\n",
    "    raise e\n"
   ]
  },
  {
   "cell_type": "code",
   "execution_count": null,
   "id": "e728e5e8",
   "metadata": {},
   "outputs": [
    {
     "name": "stdout",
     "output_type": "stream",
     "text": [
      "Dataset URL: https://www.kaggle.com/datasets/harishkumardatalab/medical-insurance-price-prediction\n"
     ]
    }
   ],
   "source": [
    "# from dotenv import load_dotenv\n",
    "# import os\n",
    "# from kaggle.api.kaggle_api_extended import KaggleApi\n",
    "\n",
    "# # Load environment variables from .env file\n",
    "# load_dotenv()\n",
    "\n",
    "# # Authenticate with Kaggle\n",
    "# api = KaggleApi()\n",
    "# api.authenticate()\n",
    "\n",
    "# # Download dataset\n",
    "# api.dataset_download_files('harishkumardatalab/medical-insurance-price-prediction', path='data/', unzip=True)"
   ]
  },
  {
   "cell_type": "code",
   "execution_count": null,
   "id": "69e2b906",
   "metadata": {},
   "outputs": [
    {
     "name": "stdout",
     "output_type": "stream",
     "text": [
      "True\n"
     ]
    }
   ],
   "source": [
    "\n",
    "\n"
   ]
  },
  {
   "cell_type": "code",
   "execution_count": null,
   "id": "4543242e",
   "metadata": {},
   "outputs": [],
   "source": []
  }
 ],
 "metadata": {
  "kernelspec": {
   "display_name": "venv",
   "language": "python",
   "name": "python3"
  },
  "language_info": {
   "codemirror_mode": {
    "name": "ipython",
    "version": 3
   },
   "file_extension": ".py",
   "mimetype": "text/x-python",
   "name": "python",
   "nbconvert_exporter": "python",
   "pygments_lexer": "ipython3",
   "version": "3.12.4"
  }
 },
 "nbformat": 4,
 "nbformat_minor": 5
}
