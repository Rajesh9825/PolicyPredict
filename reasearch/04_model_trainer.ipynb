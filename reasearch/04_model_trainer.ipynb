{
 "cells": [
  {
   "cell_type": "code",
   "execution_count": 1,
   "id": "d6ea9d1f",
   "metadata": {},
   "outputs": [],
   "source": [
    "import os"
   ]
  },
  {
   "cell_type": "code",
   "execution_count": 2,
   "id": "01f1170d",
   "metadata": {},
   "outputs": [
    {
     "data": {
      "text/plain": [
       "'d:\\\\ML_Projects\\\\Resume Project\\\\Project_6_insurance_claim_prediction\\\\reasearch'"
      ]
     },
     "execution_count": 2,
     "metadata": {},
     "output_type": "execute_result"
    }
   ],
   "source": [
    "%pwd"
   ]
  },
  {
   "cell_type": "code",
   "execution_count": 3,
   "id": "0dd5ef0e",
   "metadata": {},
   "outputs": [],
   "source": [
    "os.chdir(\"../\")"
   ]
  },
  {
   "cell_type": "code",
   "execution_count": 4,
   "id": "17ed4e3d",
   "metadata": {},
   "outputs": [
    {
     "data": {
      "text/plain": [
       "'d:\\\\ML_Projects\\\\Resume Project\\\\Project_6_insurance_claim_prediction'"
      ]
     },
     "execution_count": 4,
     "metadata": {},
     "output_type": "execute_result"
    }
   ],
   "source": [
    "%pwd"
   ]
  },
  {
   "cell_type": "code",
   "execution_count": 5,
   "id": "0b859351",
   "metadata": {},
   "outputs": [],
   "source": [
    "# Entity\n",
    "from dataclasses import dataclass\n",
    "from pathlib import Path\n",
    "\n",
    "@dataclass(frozen=True)\n",
    "class ModelTrainingConfig:\n",
    "    root_dir: Path\n",
    "    train_data_path: Path\n",
    "    test_data_path: Path\n",
    "    model_name: str\n",
    "    alpha: float # params.yaml  \n",
    "    l1_ratio: float # params.yaml\n",
    "    target_column: str # Schema.yaml\n",
    "\n",
    "\n"
   ]
  },
  {
   "cell_type": "code",
   "execution_count": 6,
   "id": "b10278e8",
   "metadata": {},
   "outputs": [],
   "source": [
    "# prepare confuguration manager class\n",
    "from src.mlproject.constants import *\n",
    "from src.mlproject.utils.common import read_yaml,create_directories"
   ]
  },
  {
   "cell_type": "code",
   "execution_count": 11,
   "id": "ddd433f3",
   "metadata": {},
   "outputs": [],
   "source": [
    "class ConfigurationManager:\n",
    "    def __init__(self,\n",
    "                 config_filepath = CONFIG_FILE_PATH,\n",
    "                 params_filepath = PARAMS_FILE_PATH,\n",
    "                 schema_filepath = SCHEMA_FILE_PATH):\n",
    "        \n",
    "        self.config = read_yaml(config_filepath)\n",
    "        self.params = read_yaml(params_filepath)\n",
    "        self.schema = read_yaml(schema_filepath)\n",
    "\n",
    "        create_directories([self.config.artifacts_root])\n",
    "\n",
    "\n",
    "    def get_model_trainer_config(self) -> ModelTrainingConfig:\n",
    "        config =  self.config.model_trainer\n",
    "        params = self.params.ElasticNet\n",
    "        schema = self.schema.TARGET_COLUMN\n",
    "\n",
    "        create_directories([config.root_dir])\n",
    "\n",
    "        model_trainer_config = ModelTrainingConfig(\n",
    "            root_dir = config.root_dir,\n",
    "            train_data_path = config.train_data_path,\n",
    "            test_data_path =  config.test_data_path,\n",
    "            model_name = config.model_name,\n",
    "            alpha = params.alpha, # params.yaml  \n",
    "            l1_ratio = params.l1_ratio, # params.yaml\n",
    "            target_column = schema.name # Schema.yaml\n",
    "        )\n",
    "\n",
    "        return model_trainer_config"
   ]
  },
  {
   "cell_type": "code",
   "execution_count": 12,
   "id": "89c5988d",
   "metadata": {},
   "outputs": [],
   "source": [
    "import os\n",
    "import pandas as pd\n",
    "from src.mlproject.logging import logger\n",
    "from sklearn.linear_model import ElasticNet\n",
    "import joblib"
   ]
  },
  {
   "cell_type": "code",
   "execution_count": 17,
   "id": "d369f86a",
   "metadata": {},
   "outputs": [],
   "source": [
    "class ModelTrainer:\n",
    "    def __init__(self,config: ModelTrainingConfig):\n",
    "        self.config = config\n",
    "\n",
    "    def train(self):\n",
    "        train_data = pd.read_csv(self.config.train_data_path)\n",
    "        test_data = pd.read_csv(self.config.test_data_path)\n",
    "\n",
    "        \n",
    "        train_X = train_data.drop([self.config.target_column],axis=1)\n",
    "        test_X = test_data.drop([self.config.target_column],axis=1)\n",
    "        train_y = train_data[[self.config.target_column]]\n",
    "        test_y = test_data[[self.config.target_column]]\n",
    "        print(train_X)\n",
    "\n",
    "\n",
    "        lr = ElasticNet(alpha=self.config.alpha,l1_ratio=self.config.l1_ratio,random_state=42)\n",
    "        lr.fit(train_X,train_y)\n",
    "\n",
    "        joblib.dump(lr, os.path.join(self.config.root_dir,self.config.model_name))"
   ]
  },
  {
   "cell_type": "code",
   "execution_count": 18,
   "id": "c9cf743d",
   "metadata": {},
   "outputs": [
    {
     "name": "stdout",
     "output_type": "stream",
     "text": [
      "[2025-04-10 01:30:30,048: INFO: common: yaml file: config\\config.yaml loaded successfully]\n",
      "[2025-04-10 01:30:30,053: INFO: common: yaml file: params.yaml loaded successfully]\n",
      "[2025-04-10 01:30:30,053: INFO: common: yaml file: schema.yaml loaded successfully]\n",
      "[2025-04-10 01:30:30,070: INFO: common: Created directory at: artifacts]\n"
     ]
    },
    {
     "name": "stdout",
     "output_type": "stream",
     "text": [
      "[2025-04-10 01:30:30,107: INFO: common: Created directory at: artifacts/model_trainer]\n",
      "      num__age  num__bmi  num__children  cat__sex_female  cat__sex_male  \\\n",
      "0         34.0    30.210            1.0              1.0            0.0   \n",
      "1         54.0    31.600            0.0              0.0            1.0   \n",
      "2         26.0    31.065            0.0              0.0            1.0   \n",
      "3         39.0    24.510            2.0              0.0            1.0   \n",
      "4         24.0    23.210            0.0              1.0            0.0   \n",
      "...        ...       ...            ...              ...            ...   \n",
      "2074      59.0    27.500            1.0              0.0            1.0   \n",
      "2075      53.0    31.160            1.0              0.0            1.0   \n",
      "2076      38.0    30.690            1.0              1.0            0.0   \n",
      "2077      18.0    31.350            0.0              1.0            0.0   \n",
      "2078      23.0    28.310            0.0              1.0            0.0   \n",
      "\n",
      "      cat__smoker_no  cat__smoker_yes  cat__region_northeast  \\\n",
      "0                0.0              1.0                    0.0   \n",
      "1                1.0              0.0                    0.0   \n",
      "2                1.0              0.0                    0.0   \n",
      "3                1.0              0.0                    0.0   \n",
      "4                1.0              0.0                    0.0   \n",
      "...              ...              ...                    ...   \n",
      "2074             1.0              0.0                    0.0   \n",
      "2075             1.0              0.0                    0.0   \n",
      "2076             1.0              0.0                    0.0   \n",
      "2077             1.0              0.0                    0.0   \n",
      "2078             0.0              1.0                    0.0   \n",
      "\n",
      "      cat__region_northwest  cat__region_southeast  cat__region_southwest  \n",
      "0                       1.0                    0.0                    0.0  \n",
      "1                       0.0                    0.0                    1.0  \n",
      "2                       1.0                    0.0                    0.0  \n",
      "3                       1.0                    0.0                    0.0  \n",
      "4                       0.0                    1.0                    0.0  \n",
      "...                     ...                    ...                    ...  \n",
      "2074                    0.0                    0.0                    1.0  \n",
      "2075                    1.0                    0.0                    0.0  \n",
      "2076                    0.0                    1.0                    0.0  \n",
      "2077                    0.0                    1.0                    0.0  \n",
      "2078                    1.0                    0.0                    0.0  \n",
      "\n",
      "[2079 rows x 11 columns]\n"
     ]
    }
   ],
   "source": [
    "# Pipeline\n",
    "try:\n",
    "    config = ConfigurationManager()\n",
    "    model_trainer_config = config.get_model_trainer_config()\n",
    "    model_trainer_config = ModelTrainer(config=model_trainer_config)\n",
    "    model_trainer_config.train()\n",
    "except Exception as e:\n",
    "    raise e"
   ]
  },
  {
   "cell_type": "code",
   "execution_count": null,
   "id": "21689126",
   "metadata": {},
   "outputs": [],
   "source": []
  }
 ],
 "metadata": {
  "kernelspec": {
   "display_name": "venv",
   "language": "python",
   "name": "python3"
  },
  "language_info": {
   "codemirror_mode": {
    "name": "ipython",
    "version": 3
   },
   "file_extension": ".py",
   "mimetype": "text/x-python",
   "name": "python",
   "nbconvert_exporter": "python",
   "pygments_lexer": "ipython3",
   "version": "3.12.4"
  }
 },
 "nbformat": 4,
 "nbformat_minor": 5
}
