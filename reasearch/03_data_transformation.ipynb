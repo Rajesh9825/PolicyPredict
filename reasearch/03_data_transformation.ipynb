{
 "cells": [
  {
   "cell_type": "code",
   "execution_count": 2,
   "id": "fe4ef278",
   "metadata": {},
   "outputs": [],
   "source": [
    "import os"
   ]
  },
  {
   "cell_type": "code",
   "execution_count": 1,
   "id": "4cf1cecb",
   "metadata": {},
   "outputs": [
    {
     "data": {
      "text/plain": [
       "'d:\\\\ML_Projects\\\\Resume Project\\\\Project_6_insurance_claim_prediction\\\\reasearch'"
      ]
     },
     "execution_count": 1,
     "metadata": {},
     "output_type": "execute_result"
    }
   ],
   "source": [
    "%pwd"
   ]
  },
  {
   "cell_type": "code",
   "execution_count": 3,
   "id": "9b093083",
   "metadata": {},
   "outputs": [],
   "source": [
    "os.chdir(\"../\")"
   ]
  },
  {
   "cell_type": "code",
   "execution_count": 4,
   "id": "d1d72c6b",
   "metadata": {},
   "outputs": [
    {
     "data": {
      "text/plain": [
       "'d:\\\\ML_Projects\\\\Resume Project\\\\Project_6_insurance_claim_prediction'"
      ]
     },
     "execution_count": 4,
     "metadata": {},
     "output_type": "execute_result"
    }
   ],
   "source": [
    "%pwd"
   ]
  },
  {
   "cell_type": "code",
   "execution_count": null,
   "id": "2caf22a0",
   "metadata": {},
   "outputs": [],
   "source": [
    "# Prepare Entity class\n",
    "from dataclasses import dataclass\n",
    "from pathlib import Path\n",
    "\n",
    "@dataclass(frozen=True)\n",
    "class DataTransformationConfig:\n",
    "    root_dir : Path\n",
    "    data_path : Path\n",
    "  \n",
    "    "
   ]
  },
  {
   "cell_type": "code",
   "execution_count": 15,
   "id": "05650c59",
   "metadata": {},
   "outputs": [],
   "source": [
    "# prepare confuguration manager class\n",
    "from src.mlproject.constants import *\n",
    "from src.mlproject.utils.common import read_yaml,create_directories"
   ]
  },
  {
   "cell_type": "code",
   "execution_count": null,
   "id": "162c9fab",
   "metadata": {},
   "outputs": [],
   "source": [
    "class ConfigurationManager:\n",
    "    def __init__(self,\n",
    "                 config_filepath = CONFIG_FILE_PATH,\n",
    "                 params_filepath = PARAMS_FILE_PATH,\n",
    "                 schema_filepath = SCHEMA_FILE_PATH):\n",
    "        \n",
    "        self.config = read_yaml(config_filepath)\n",
    "        self.params = read_yaml(params_filepath)\n",
    "        self.schema = read_yaml(schema_filepath)\n",
    "\n",
    "        create_directories([self.config.artifacts_root])\n",
    "\n",
    "\n",
    "\n",
    "    def get_data_transformation_config(self) -> DataTransformationConfig:\n",
    "        config = self.config.data_transformation\n",
    "\n",
    "        create_directories([config.root_dir])\n",
    "\n",
    "        data_validation_config = DataTransformationConfig(\n",
    "            root_dir=config.root_dir,\n",
    "            data_path=config.data_path,\n",
    "            \n",
    "        )\n",
    "\n",
    "        return data_validation_config\n",
    "        "
   ]
  },
  {
   "cell_type": "code",
   "execution_count": 17,
   "id": "2f3e0a19",
   "metadata": {},
   "outputs": [],
   "source": [
    "\n",
    "import os\n",
    "from src.mlproject.logging import logger\n",
    "from sklearn.model_selection import train_test_split\n",
    "import pandas as pd\n",
    "from sklearn.compose import ColumnTransformer\n",
    "from sklearn.impute import SimpleImputer\n",
    "from sklearn.pipeline import Pipeline\n",
    "from sklearn.preprocessing import OneHotEncoder,StandardScaler\n",
    "import numpy as np\n",
    "\n",
    "import joblib\n"
   ]
  },
  {
   "cell_type": "code",
   "execution_count": 35,
   "id": "84c3ca8a",
   "metadata": {},
   "outputs": [],
   "source": [
    "class DataTransformation:\n",
    "    def __init__(self,config: DataTransformationConfig):\n",
    "        self.config = config\n",
    "\n",
    "    ## Note: you can add different data transformation techniques such as scalar, PCA, an all.\n",
    "    # You can perform all kinds of EDA in ML cycle here before passing this data to the model.\n",
    "\n",
    "    def train_test_splitting(self):\n",
    "        data = pd.read_csv(self.config.data_path)\n",
    "\n",
    "        # Split data into training and test set. (0.75, 0.25) split.\n",
    "        train,test = train_test_split(data)\n",
    "\n",
    "        train.to_csv(os.path.join(self.config.root_dir,\"train.csv\"),index= False)\n",
    "        test.to_csv(os.path.join(self.config.root_dir,\"test.csv\"),index= False)\n",
    "\n",
    "        logger.info(\"Splitted data into training and test sets\")\n",
    "        logger.info(train.shape)\n",
    "        logger.info(test.shape)\n",
    "\n",
    "        print(train.shape)\n",
    "        print(test.shape)\n",
    "        return train,test\n",
    "\n",
    "    def get_data_transformer_object(self):\n",
    "        '''\n",
    "        This function is responsible for data transformation\n",
    "        '''\n",
    "\n",
    "        try:\n",
    "            numerical_columns = [\"age\",\"bmi\",\"children\"]\n",
    "            categorical_column = [\n",
    "                \"sex\",\n",
    "                \"smoker\",\n",
    "                \"region\"\n",
    "            ]\n",
    "\n",
    "            # num_pipeline =Pipeline(\n",
    "            #     steps=[\n",
    "            #         (\"imputer\",SimpleImputer(strategy=\"median\")),\n",
    "            #         #(\"scaler\",StandardScaler())\n",
    "            #     ]\n",
    "            # )\n",
    "\n",
    "            cat_pipeline = Pipeline(\n",
    "                steps=[\n",
    "                    # (\"imputer\",SimpleImputer(strategy=\"most_frequent\")),\n",
    "                    (\"one_hot_encoder\",OneHotEncoder()),\n",
    "                    #(\"scaler\",StandardScaler())\n",
    "                ]\n",
    "            )\n",
    "            \n",
    "            preprocessor = ColumnTransformer(\n",
    "                [\n",
    "                    # (\"num_pipeline\",num_pipeline,numerical_columns),\n",
    "                    (\"cat_pipeline\",cat_pipeline,categorical_column),\n",
    "                    \n",
    "                ],remainder='passthrough'\n",
    "            )\n",
    "\n",
    "            logger.info(\"Preprocessor object created\")\n",
    "\n",
    "            return preprocessor\n",
    "        \n",
    "\n",
    "        except Exception as e:\n",
    "            raise e\n",
    "        \n",
    "    \n",
    "    def initiate_data_transformation(self,train_data,test_data):\n",
    "\n",
    "        try:\n",
    "            \n",
    "            preprocessor_obj = self.get_data_transformer_object()\n",
    "\n",
    "            target_column_name = \"charges\"\n",
    "\n",
    "\n",
    "            input_feature_train_df = train_data.drop(columns=[target_column_name],axis=1)\n",
    "            target_feature_train_df = train_data[target_column_name]\n",
    "            #print(input_feature_train_df.head(5))\n",
    "            input_feature_test_df = test_data.drop(columns=[target_column_name],axis=1)\n",
    "            target_feature_test_df = test_data[target_column_name]\n",
    "\n",
    "            logger.info(\n",
    "                f\"Applying preprocessing object on training dataframe and testing dataframe\"\n",
    "            )\n",
    "\n",
    "            input_feature_train_arr = preprocessor_obj.fit_transform(input_feature_train_df)\n",
    "            input_feature_test_arr = preprocessor_obj.transform(input_feature_test_df)\n",
    "\n",
    "\n",
    "            train_arr = np.c_[\n",
    "                input_feature_train_arr,np.array(target_feature_train_df)\n",
    "            ]\n",
    "\n",
    "            test_arr = np.c_[\n",
    "                input_feature_test_arr,np.array(target_feature_test_df)\n",
    "            ]\n",
    "\n",
    "\n",
    "            #### For dataframe output \n",
    "            transformed_train=pd.DataFrame(train_arr)\n",
    "            transformed_test=pd.DataFrame(test_arr)\n",
    "\n",
    "            \n",
    "            transformed_train.to_csv(os.path.join(self.config.root_dir,\"transformed_train.csv\"),index= False)\n",
    "            transformed_test.to_csv(os.path.join(self.config.root_dir,\"transformed_test.csv\"),index= False)\n",
    "\n",
    "            logger.info(f\"Saved train and test data.\")\n",
    "\n",
    "            joblib.dump(preprocessor_obj, os.path.join(self.config.root_dir,\"preprocessor.joblib\"))\n",
    "            logger.info(f\"Saved Preprocessing objects.\")\n",
    "\n",
    "            return train_arr,test_arr\n",
    "\n",
    "        except Exception as e:\n",
    "            raise e\n",
    "\n",
    "\n"
   ]
  },
  {
   "cell_type": "code",
   "execution_count": 36,
   "id": "b851953e",
   "metadata": {},
   "outputs": [
    {
     "name": "stdout",
     "output_type": "stream",
     "text": [
      "[2025-04-10 00:04:10,618: INFO: common: yaml file: config\\config.yaml loaded successfully]\n",
      "[2025-04-10 00:04:10,621: INFO: common: yaml file: params.yaml loaded successfully]\n",
      "[2025-04-10 00:04:10,624: INFO: common: yaml file: schema.yaml loaded successfully]\n",
      "[2025-04-10 00:04:10,626: INFO: common: Created directory at: artifacts]\n",
      "[2025-04-10 00:04:10,628: INFO: common: Created directory at: artifacts/data_transformation]\n",
      "[2025-04-10 00:04:10,656: INFO: 2760259681: Splitted data into training and test sets]\n",
      "[2025-04-10 00:04:10,658: INFO: 2760259681: (2079, 7)]\n",
      "[2025-04-10 00:04:10,660: INFO: 2760259681: (693, 7)]\n",
      "(2079, 7)\n",
      "(693, 7)\n",
      "[2025-04-10 00:04:10,661: INFO: 2760259681: Preprocessor object created]\n",
      "[2025-04-10 00:04:10,664: INFO: 2760259681: Applying preprocessing object on training dataframe and testing dataframe]\n",
      "[2025-04-10 00:04:10,715: INFO: 2760259681: Saved train and test data.]\n",
      "[2025-04-10 00:04:10,715: INFO: 2760259681: Saved Preprocessing objects.]\n"
     ]
    }
   ],
   "source": [
    "try:\n",
    "    config= ConfigurationManager()\n",
    "    data_transformation_config = config.get_data_transformation_config()\n",
    "    data_transformation = DataTransformation(config=data_transformation_config)\n",
    "    train,test = data_transformation.train_test_splitting()\n",
    "    data_transformation.initiate_data_transformation(train_data=train,test_data=test)\n",
    "\n",
    "except Exception as e:\n",
    "    raise e\n",
    "    "
   ]
  },
  {
   "cell_type": "code",
   "execution_count": null,
   "id": "ddbfbf12",
   "metadata": {},
   "outputs": [],
   "source": []
  },
  {
   "cell_type": "code",
   "execution_count": null,
   "id": "05d7e3fc",
   "metadata": {},
   "outputs": [],
   "source": []
  }
 ],
 "metadata": {
  "kernelspec": {
   "display_name": "venv",
   "language": "python",
   "name": "python3"
  },
  "language_info": {
   "codemirror_mode": {
    "name": "ipython",
    "version": 3
   },
   "file_extension": ".py",
   "mimetype": "text/x-python",
   "name": "python",
   "nbconvert_exporter": "python",
   "pygments_lexer": "ipython3",
   "version": "3.12.4"
  }
 },
 "nbformat": 4,
 "nbformat_minor": 5
}
